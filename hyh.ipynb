{
 "cells": [
  {
   "cell_type": "code",
   "execution_count": null,
   "metadata": {},
   "outputs": [],
   "source": [
    "for i in range(10):\n",
    "    print(i)"
   ]
  },
  {
   "cell_type": "code",
   "execution_count": null,
   "metadata": {},
   "outputs": [],
   "source": [
    "L=[]\n",
    "A=[-1,0,1,2,-1,-4]\n",
    "A.sort()\n",
    "n=len(A)\n",
    "def f(A,n):\n",
    "    for i in range(n):\n",
    "        j=0; k=n-1\n",
    "        while j<n and k>=0 and i!=j and j!=k and k!=i:\n",
    "            s=A[i]+A[j]+A[k]\n",
    "            if s==0:\n",
    "                x=[A[i],A[j],A[k]]\n",
    "                if x not in L:\n",
    "                    L.append(x)\n",
    "                    k-=1\n",
    "                    j+=1\n",
    "            elif s>0:\n",
    "                k-=1\n",
    "            else:\n",
    "                j+=1\n",
    "    return L\n",
    "print(f(A,n))"
   ]
  }
 ],
 "metadata": {
  "kernelspec": {
   "display_name": ".venv",
   "language": "python",
   "name": "python3"
  },
  "language_info": {
   "codemirror_mode": {
    "name": "ipython",
    "version": 3
   },
   "file_extension": ".py",
   "mimetype": "text/x-python",
   "name": "python",
   "nbconvert_exporter": "python",
   "pygments_lexer": "ipython3",
   "version": "3.11.3"
  },
  "orig_nbformat": 4
 },
 "nbformat": 4,
 "nbformat_minor": 2
}
